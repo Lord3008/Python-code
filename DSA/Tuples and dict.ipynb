{
 "cells": [
  {
   "cell_type": "code",
   "execution_count": 3,
   "id": "7ca6d744",
   "metadata": {},
   "outputs": [
    {
     "name": "stdout",
     "output_type": "stream",
     "text": [
      "Enter age: 34\n",
      "Adult\n"
     ]
    }
   ],
   "source": [
    "age=int(input(\"Enter age: \"))\n",
    "if age>=18:\n",
    "    print(\"Adult\")\n",
    "else:\n",
    "    print(\"Child\")"
   ]
  },
  {
   "cell_type": "code",
   "execution_count": 8,
   "id": "f2d6f823",
   "metadata": {},
   "outputs": [
    {
     "name": "stdout",
     "output_type": "stream",
     "text": [
      "Enter age: 15\n",
      "Child\n"
     ]
    }
   ],
   "source": [
    "age =int(input(\"Enter age: \"))\n",
    "result=(age>=18 and \"Adult\") or \"Child\"\n",
    "print(result)"
   ]
  },
  {
   "cell_type": "code",
   "execution_count": null,
   "id": "3b23d133",
   "metadata": {},
   "outputs": [],
   "source": []
  },
  {
   "cell_type": "code",
   "execution_count": null,
   "id": "11cb1fb5",
   "metadata": {},
   "outputs": [],
   "source": [
    "x = 10\n",
    "result = (x > 5 and \"Greater than 5\") or \"5 or less\"\n",
    "print(result)\n"
   ]
  },
  {
   "cell_type": "markdown",
   "id": "b6662f40",
   "metadata": {},
   "source": [
    "This "
   ]
  },
  {
   "cell_type": "markdown",
   "id": "1d7da170",
   "metadata": {},
   "source": [
    "## Tuples:"
   ]
  },
  {
   "cell_type": "code",
   "execution_count": 9,
   "id": "b99a7800",
   "metadata": {},
   "outputs": [
    {
     "name": "stdout",
     "output_type": "stream",
     "text": [
      "()\n",
      "<class 'tuple'>\n"
     ]
    }
   ],
   "source": [
    "empty_tuple =()\n",
    "print(empty_tuple)\n",
    "print(type(empty_tuple))"
   ]
  },
  {
   "cell_type": "code",
   "execution_count": 13,
   "id": "5a68f1c1",
   "metadata": {},
   "outputs": [
    {
     "data": {
      "text/plain": [
       "(1, 2, 3, 4, 5, 6)"
      ]
     },
     "execution_count": 13,
     "metadata": {},
     "output_type": "execute_result"
    }
   ],
   "source": [
    "nums=tuple([1,2,3,4,5,6])## mixed tuple is also possible\n",
    "nums"
   ]
  },
  {
   "cell_type": "code",
   "execution_count": 14,
   "id": "c87ec3a1",
   "metadata": {},
   "outputs": [
    {
     "data": {
      "text/plain": [
       "[2, 3, 4]"
      ]
     },
     "execution_count": 14,
     "metadata": {},
     "output_type": "execute_result"
    }
   ],
   "source": [
    "list((2,3,4))"
   ]
  },
  {
   "cell_type": "code",
   "execution_count": 15,
   "id": "95e3c006",
   "metadata": {},
   "outputs": [
    {
     "data": {
      "text/plain": [
       "(1, 2, 3, 4, 5, 6)"
      ]
     },
     "execution_count": 15,
     "metadata": {},
     "output_type": "execute_result"
    }
   ],
   "source": [
    "nums"
   ]
  },
  {
   "cell_type": "code",
   "execution_count": 16,
   "id": "32bca531",
   "metadata": {},
   "outputs": [
    {
     "data": {
      "text/plain": [
       "1"
      ]
     },
     "execution_count": 16,
     "metadata": {},
     "output_type": "execute_result"
    }
   ],
   "source": [
    "nums[0]"
   ]
  },
  {
   "cell_type": "code",
   "execution_count": 17,
   "id": "c4aba400",
   "metadata": {},
   "outputs": [
    {
     "data": {
      "text/plain": [
       "6"
      ]
     },
     "execution_count": 17,
     "metadata": {},
     "output_type": "execute_result"
    }
   ],
   "source": [
    "nums[-1]"
   ]
  },
  {
   "cell_type": "code",
   "execution_count": 18,
   "id": "181d730c",
   "metadata": {},
   "outputs": [
    {
     "data": {
      "text/plain": [
       "(1, 2, 3, 4)"
      ]
     },
     "execution_count": 18,
     "metadata": {},
     "output_type": "execute_result"
    }
   ],
   "source": [
    "nums[0:4]"
   ]
  },
  {
   "cell_type": "code",
   "execution_count": 19,
   "id": "47e94530",
   "metadata": {},
   "outputs": [
    {
     "data": {
      "text/plain": [
       "(1, 2, 3, 4, 5, 6)"
      ]
     },
     "execution_count": 19,
     "metadata": {},
     "output_type": "execute_result"
    }
   ],
   "source": [
    "nums[::]"
   ]
  },
  {
   "cell_type": "code",
   "execution_count": 20,
   "id": "ce49ffc1",
   "metadata": {},
   "outputs": [
    {
     "data": {
      "text/plain": [
       "(6, 5, 4, 3, 2, 1)"
      ]
     },
     "execution_count": 20,
     "metadata": {},
     "output_type": "execute_result"
    }
   ],
   "source": [
    "nums[::-1]"
   ]
  },
  {
   "cell_type": "code",
   "execution_count": 22,
   "id": "df271369",
   "metadata": {},
   "outputs": [],
   "source": [
    "#Tuples Operatiions\n",
    "\n",
    "mixed=(\"a\",7,\"b\")"
   ]
  },
  {
   "cell_type": "code",
   "execution_count": 23,
   "id": "9d3f5c8c",
   "metadata": {},
   "outputs": [
    {
     "data": {
      "text/plain": [
       "('a', 7, 'b')"
      ]
     },
     "execution_count": 23,
     "metadata": {},
     "output_type": "execute_result"
    }
   ],
   "source": [
    "mixed"
   ]
  },
  {
   "cell_type": "code",
   "execution_count": 25,
   "id": "577c305c",
   "metadata": {},
   "outputs": [
    {
     "data": {
      "text/plain": [
       "(1, 2, 3, 4, 5, 6, 'a', 7, 'b')"
      ]
     },
     "execution_count": 25,
     "metadata": {},
     "output_type": "execute_result"
    }
   ],
   "source": [
    "concat_tup=nums+mixed\n",
    "concat_tup"
   ]
  },
  {
   "cell_type": "code",
   "execution_count": 26,
   "id": "e4f5de86",
   "metadata": {},
   "outputs": [
    {
     "data": {
      "text/plain": [
       "('a', 7, 'b', 'a', 7, 'b', 'a', 7, 'b')"
      ]
     },
     "execution_count": 26,
     "metadata": {},
     "output_type": "execute_result"
    }
   ],
   "source": [
    "mixed*3"
   ]
  },
  {
   "cell_type": "code",
   "execution_count": 27,
   "id": "5af5561c",
   "metadata": {},
   "outputs": [
    {
     "name": "stdout",
     "output_type": "stream",
     "text": [
      "3\n",
      "6\n",
      "9\n",
      "12\n",
      "15\n",
      "18\n"
     ]
    }
   ],
   "source": [
    "for i in nums:\n",
    "    i=i*3\n",
    "    print(i)"
   ]
  },
  {
   "cell_type": "code",
   "execution_count": 28,
   "id": "00c2e5b8",
   "metadata": {},
   "outputs": [
    {
     "data": {
      "text/plain": [
       "(1, 2, 3, 4, 5, 6)"
      ]
     },
     "execution_count": 28,
     "metadata": {},
     "output_type": "execute_result"
    }
   ],
   "source": [
    "nums"
   ]
  },
  {
   "cell_type": "code",
   "execution_count": 30,
   "id": "a3c4d66f",
   "metadata": {},
   "outputs": [],
   "source": [
    "# nums[0]=1213 TypeError: 'tuple' object does not support item assignment"
   ]
  },
  {
   "cell_type": "code",
   "execution_count": 32,
   "id": "db1cd552",
   "metadata": {},
   "outputs": [
    {
     "data": {
      "text/plain": [
       "1"
      ]
     },
     "execution_count": 32,
     "metadata": {},
     "output_type": "execute_result"
    }
   ],
   "source": [
    "# Tuple Methods:\n",
    "nums.count(1)"
   ]
  },
  {
   "cell_type": "code",
   "execution_count": 33,
   "id": "20cb44d8",
   "metadata": {},
   "outputs": [
    {
     "data": {
      "text/plain": [
       "2"
      ]
     },
     "execution_count": 33,
     "metadata": {},
     "output_type": "execute_result"
    }
   ],
   "source": [
    "nums.index(3)"
   ]
  },
  {
   "cell_type": "code",
   "execution_count": 34,
   "id": "afcf4f7e",
   "metadata": {},
   "outputs": [
    {
     "data": {
      "text/plain": [
       "(1, 'Hello', 3.14)"
      ]
     },
     "execution_count": 34,
     "metadata": {},
     "output_type": "execute_result"
    }
   ],
   "source": [
    "# Packing and Unpaking\n",
    "pak= 1, \"Hello\",3.14\n",
    "pak"
   ]
  },
  {
   "cell_type": "code",
   "execution_count": 35,
   "id": "4a468b9e",
   "metadata": {},
   "outputs": [
    {
     "data": {
      "text/plain": [
       "1"
      ]
     },
     "execution_count": 35,
     "metadata": {},
     "output_type": "execute_result"
    }
   ],
   "source": [
    "a,b,c=pak\n",
    "a"
   ]
  },
  {
   "cell_type": "code",
   "execution_count": 36,
   "id": "51994b84",
   "metadata": {},
   "outputs": [
    {
     "data": {
      "text/plain": [
       "'Hello'"
      ]
     },
     "execution_count": 36,
     "metadata": {},
     "output_type": "execute_result"
    }
   ],
   "source": [
    "b"
   ]
  },
  {
   "cell_type": "code",
   "execution_count": 37,
   "id": "d2446a0a",
   "metadata": {},
   "outputs": [
    {
     "data": {
      "text/plain": [
       "3.14"
      ]
     },
     "execution_count": 37,
     "metadata": {},
     "output_type": "execute_result"
    }
   ],
   "source": [
    "c"
   ]
  },
  {
   "cell_type": "code",
   "execution_count": 38,
   "id": "54dedbfc",
   "metadata": {},
   "outputs": [
    {
     "data": {
      "text/plain": [
       "(1, 2, 3, 4, 5, 6)"
      ]
     },
     "execution_count": 38,
     "metadata": {},
     "output_type": "execute_result"
    }
   ],
   "source": [
    "# Unpacking with star\n",
    "nums"
   ]
  },
  {
   "cell_type": "code",
   "execution_count": 39,
   "id": "4027a6cd",
   "metadata": {},
   "outputs": [
    {
     "data": {
      "text/plain": [
       "1"
      ]
     },
     "execution_count": 39,
     "metadata": {},
     "output_type": "execute_result"
    }
   ],
   "source": [
    "first, *middle, last=nums\n",
    "first"
   ]
  },
  {
   "cell_type": "code",
   "execution_count": 40,
   "id": "f62197cc",
   "metadata": {},
   "outputs": [
    {
     "data": {
      "text/plain": [
       "[2, 3, 4, 5]"
      ]
     },
     "execution_count": 40,
     "metadata": {},
     "output_type": "execute_result"
    }
   ],
   "source": [
    "middle"
   ]
  },
  {
   "cell_type": "code",
   "execution_count": 41,
   "id": "86295988",
   "metadata": {},
   "outputs": [
    {
     "data": {
      "text/plain": [
       "6"
      ]
     },
     "execution_count": 41,
     "metadata": {},
     "output_type": "execute_result"
    }
   ],
   "source": [
    "last"
   ]
  },
  {
   "cell_type": "code",
   "execution_count": 42,
   "id": "55b93d84",
   "metadata": {},
   "outputs": [],
   "source": [
    "## Nested Tuple\n",
    "tup=((1,2),(\"Know\", 3.14))"
   ]
  },
  {
   "cell_type": "code",
   "execution_count": 43,
   "id": "2fba3d42",
   "metadata": {},
   "outputs": [
    {
     "data": {
      "text/plain": [
       "((1, 2), ('Know', 3.14))"
      ]
     },
     "execution_count": 43,
     "metadata": {},
     "output_type": "execute_result"
    }
   ],
   "source": [
    "tup"
   ]
  },
  {
   "cell_type": "code",
   "execution_count": 44,
   "id": "27cbf97d",
   "metadata": {},
   "outputs": [
    {
     "data": {
      "text/plain": [
       "(1, 2)"
      ]
     },
     "execution_count": 44,
     "metadata": {},
     "output_type": "execute_result"
    }
   ],
   "source": [
    "tup[0]"
   ]
  },
  {
   "cell_type": "code",
   "execution_count": 46,
   "id": "2fb6c91d",
   "metadata": {},
   "outputs": [
    {
     "data": {
      "text/plain": [
       "('Know', 3.14)"
      ]
     },
     "execution_count": 46,
     "metadata": {},
     "output_type": "execute_result"
    }
   ],
   "source": [
    "tup[1]"
   ]
  },
  {
   "cell_type": "code",
   "execution_count": 47,
   "id": "f172a46f",
   "metadata": {},
   "outputs": [
    {
     "data": {
      "text/plain": [
       "2"
      ]
     },
     "execution_count": 47,
     "metadata": {},
     "output_type": "execute_result"
    }
   ],
   "source": [
    "tup[0][1]"
   ]
  },
  {
   "cell_type": "code",
   "execution_count": 48,
   "id": "7ee76482",
   "metadata": {},
   "outputs": [
    {
     "data": {
      "text/plain": [
       "('Know', 3.14)"
      ]
     },
     "execution_count": 48,
     "metadata": {},
     "output_type": "execute_result"
    }
   ],
   "source": [
    "tup[1][0:2]"
   ]
  },
  {
   "cell_type": "markdown",
   "id": "b466e66d",
   "metadata": {},
   "source": [
    "## Dictionaries:"
   ]
  },
  {
   "cell_type": "code",
   "execution_count": 49,
   "id": "e5a51431",
   "metadata": {},
   "outputs": [
    {
     "data": {
      "text/plain": [
       "dict"
      ]
     },
     "execution_count": 49,
     "metadata": {},
     "output_type": "execute_result"
    }
   ],
   "source": [
    "empty_dict={}\n",
    "type(empty_dict)"
   ]
  },
  {
   "cell_type": "code",
   "execution_count": 50,
   "id": "429bcae4",
   "metadata": {},
   "outputs": [],
   "source": [
    "empty_dict=dict()"
   ]
  },
  {
   "cell_type": "code",
   "execution_count": 53,
   "id": "44a9c2d8",
   "metadata": {},
   "outputs": [
    {
     "data": {
      "text/plain": [
       "{'name': 'Lord', 'age': 19, 'grade': 45}"
      ]
     },
     "execution_count": 53,
     "metadata": {},
     "output_type": "execute_result"
    }
   ],
   "source": [
    "student={\"name\":\"Lord\",\"age\":19,\"grade\":45}# \"key\":\"value\"\n",
    "student# Key is unque"
   ]
  },
  {
   "cell_type": "code",
   "execution_count": 54,
   "id": "c7be57ec",
   "metadata": {},
   "outputs": [],
   "source": [
    "student={\"name\":\"Lord\",\"age\":19,\"grade\":\"A\"}"
   ]
  },
  {
   "cell_type": "code",
   "execution_count": 55,
   "id": "9b31b36e",
   "metadata": {},
   "outputs": [
    {
     "data": {
      "text/plain": [
       "'A'"
      ]
     },
     "execution_count": 55,
     "metadata": {},
     "output_type": "execute_result"
    }
   ],
   "source": [
    "student[\"grade\"]"
   ]
  },
  {
   "cell_type": "code",
   "execution_count": 56,
   "id": "3c61bfac",
   "metadata": {},
   "outputs": [
    {
     "data": {
      "text/plain": [
       "19"
      ]
     },
     "execution_count": 56,
     "metadata": {},
     "output_type": "execute_result"
    }
   ],
   "source": [
    "student[\"age\"]"
   ]
  },
  {
   "cell_type": "code",
   "execution_count": 57,
   "id": "1ee7752e",
   "metadata": {},
   "outputs": [
    {
     "name": "stdout",
     "output_type": "stream",
     "text": [
      "A\n"
     ]
    }
   ],
   "source": [
    "print(student.get(\"grade\"))"
   ]
  },
  {
   "cell_type": "code",
   "execution_count": 58,
   "id": "a828dbad",
   "metadata": {},
   "outputs": [
    {
     "name": "stdout",
     "output_type": "stream",
     "text": [
      "None\n"
     ]
    }
   ],
   "source": [
    "print(student.get(\"last_name\"))"
   ]
  },
  {
   "cell_type": "code",
   "execution_count": 59,
   "id": "95b7f58f",
   "metadata": {},
   "outputs": [
    {
     "name": "stdout",
     "output_type": "stream",
     "text": [
      "Not_Avalilable\n"
     ]
    }
   ],
   "source": [
    "print(student.get(\"last_name\",\"Not_Avalilable\"))"
   ]
  },
  {
   "cell_type": "code",
   "execution_count": 60,
   "id": "ff021750",
   "metadata": {},
   "outputs": [],
   "source": [
    "## Modifiying Dict elements:\n",
    "student[\"name\"]=\"Krish\"\n",
    "student[\"Gen\"]=\"Male\""
   ]
  },
  {
   "cell_type": "code",
   "execution_count": 61,
   "id": "87c52be6",
   "metadata": {},
   "outputs": [
    {
     "data": {
      "text/plain": [
       "{'name': 'Krish', 'age': 19, 'grade': 'A', 'Gen': 'Male'}"
      ]
     },
     "execution_count": 61,
     "metadata": {},
     "output_type": "execute_result"
    }
   ],
   "source": [
    "student"
   ]
  },
  {
   "cell_type": "code",
   "execution_count": 62,
   "id": "ca478b55",
   "metadata": {},
   "outputs": [],
   "source": [
    "del student[\"grade\"]"
   ]
  },
  {
   "cell_type": "code",
   "execution_count": 63,
   "id": "16d53dcb",
   "metadata": {},
   "outputs": [
    {
     "data": {
      "text/plain": [
       "{'name': 'Krish', 'age': 19, 'Gen': 'Male'}"
      ]
     },
     "execution_count": 63,
     "metadata": {},
     "output_type": "execute_result"
    }
   ],
   "source": [
    "student"
   ]
  },
  {
   "cell_type": "code",
   "execution_count": 64,
   "id": "1df64506",
   "metadata": {},
   "outputs": [],
   "source": [
    "keys=student.keys()"
   ]
  },
  {
   "cell_type": "code",
   "execution_count": 65,
   "id": "f955aa71",
   "metadata": {},
   "outputs": [
    {
     "data": {
      "text/plain": [
       "dict_keys(['name', 'age', 'Gen'])"
      ]
     },
     "execution_count": 65,
     "metadata": {},
     "output_type": "execute_result"
    }
   ],
   "source": [
    "keys"
   ]
  },
  {
   "cell_type": "code",
   "execution_count": 66,
   "id": "6b6a6f4f",
   "metadata": {},
   "outputs": [
    {
     "data": {
      "text/plain": [
       "dict_values(['Krish', 19, 'Male'])"
      ]
     },
     "execution_count": 66,
     "metadata": {},
     "output_type": "execute_result"
    }
   ],
   "source": [
    "student.values()"
   ]
  },
  {
   "cell_type": "code",
   "execution_count": 67,
   "id": "5f8f3531",
   "metadata": {},
   "outputs": [
    {
     "data": {
      "text/plain": [
       "dict_items([('name', 'Krish'), ('age', 19), ('Gen', 'Male')])"
      ]
     },
     "execution_count": 67,
     "metadata": {},
     "output_type": "execute_result"
    }
   ],
   "source": [
    "items=student.items()\n",
    "items"
   ]
  },
  {
   "cell_type": "code",
   "execution_count": 68,
   "id": "f8d536a6",
   "metadata": {},
   "outputs": [],
   "source": [
    "# shallow copy:\n",
    "student_copy=student"
   ]
  },
  {
   "cell_type": "code",
   "execution_count": 69,
   "id": "670d0341",
   "metadata": {},
   "outputs": [
    {
     "data": {
      "text/plain": [
       "{'name': 'Krish', 'age': 19, 'Gen': 'Male'}"
      ]
     },
     "execution_count": 69,
     "metadata": {},
     "output_type": "execute_result"
    }
   ],
   "source": [
    "student_copy"
   ]
  },
  {
   "cell_type": "code",
   "execution_count": 70,
   "id": "2d8356e3",
   "metadata": {},
   "outputs": [
    {
     "data": {
      "text/plain": [
       "{'name': 'Krish', 'age': 19, 'Gen': 'Male'}"
      ]
     },
     "execution_count": 70,
     "metadata": {},
     "output_type": "execute_result"
    }
   ],
   "source": [
    "student"
   ]
  },
  {
   "cell_type": "code",
   "execution_count": 72,
   "id": "a27e62fc",
   "metadata": {},
   "outputs": [],
   "source": [
    "student[\"name\"]=\"Lord\""
   ]
  },
  {
   "cell_type": "code",
   "execution_count": 73,
   "id": "e7aafaee",
   "metadata": {},
   "outputs": [
    {
     "data": {
      "text/plain": [
       "{'name': 'Lord', 'age': 19, 'Gen': 'Male'}"
      ]
     },
     "execution_count": 73,
     "metadata": {},
     "output_type": "execute_result"
    }
   ],
   "source": [
    "student"
   ]
  },
  {
   "cell_type": "code",
   "execution_count": 74,
   "id": "7b5c34b6",
   "metadata": {},
   "outputs": [
    {
     "data": {
      "text/plain": [
       "{'name': 'Lord', 'age': 19, 'Gen': 'Male'}"
      ]
     },
     "execution_count": 74,
     "metadata": {},
     "output_type": "execute_result"
    }
   ],
   "source": [
    "student_copy"
   ]
  },
  {
   "cell_type": "code",
   "execution_count": 75,
   "id": "b5669078",
   "metadata": {},
   "outputs": [
    {
     "data": {
      "text/plain": [
       "{'name': 'Lord', 'age': 19, 'Gen': 'Male'}"
      ]
     },
     "execution_count": 75,
     "metadata": {},
     "output_type": "execute_result"
    }
   ],
   "source": [
    "st_cp1=student.copy()\n",
    "st_cp1"
   ]
  },
  {
   "cell_type": "code",
   "execution_count": 76,
   "id": "301532cb",
   "metadata": {},
   "outputs": [],
   "source": [
    "student[\"name\"]=\"Lord2\""
   ]
  },
  {
   "cell_type": "code",
   "execution_count": 77,
   "id": "a8f7a9d4",
   "metadata": {},
   "outputs": [
    {
     "data": {
      "text/plain": [
       "{'name': 'Lord2', 'age': 19, 'Gen': 'Male'}"
      ]
     },
     "execution_count": 77,
     "metadata": {},
     "output_type": "execute_result"
    }
   ],
   "source": [
    "student"
   ]
  },
  {
   "cell_type": "code",
   "execution_count": 78,
   "id": "66c377e8",
   "metadata": {},
   "outputs": [
    {
     "data": {
      "text/plain": [
       "{'name': 'Lord', 'age': 19, 'Gen': 'Male'}"
      ]
     },
     "execution_count": 78,
     "metadata": {},
     "output_type": "execute_result"
    }
   ],
   "source": [
    "st_cp1"
   ]
  },
  {
   "cell_type": "code",
   "execution_count": 80,
   "id": "42d570aa",
   "metadata": {},
   "outputs": [
    {
     "name": "stdout",
     "output_type": "stream",
     "text": [
      "name\n",
      "age\n",
      "Gen\n"
     ]
    }
   ],
   "source": [
    "# Iterating over dict: loops\n",
    "for keys in student.keys():\n",
    "    print(keys)\n"
   ]
  },
  {
   "cell_type": "code",
   "execution_count": 81,
   "id": "16cda0da",
   "metadata": {},
   "outputs": [
    {
     "name": "stdout",
     "output_type": "stream",
     "text": [
      "Lord2\n",
      "19\n",
      "Male\n"
     ]
    }
   ],
   "source": [
    "for values in student.values():\n",
    "    print(values)"
   ]
  },
  {
   "cell_type": "code",
   "execution_count": 82,
   "id": "762964ce",
   "metadata": {},
   "outputs": [
    {
     "name": "stdout",
     "output_type": "stream",
     "text": [
      "('name', 'Lord2')\n",
      "('age', 19)\n",
      "('Gen', 'Male')\n"
     ]
    }
   ],
   "source": [
    "for items in student.items():\n",
    "    print(items)"
   ]
  },
  {
   "cell_type": "code",
   "execution_count": 83,
   "id": "8d051f11",
   "metadata": {},
   "outputs": [
    {
     "name": "stdout",
     "output_type": "stream",
     "text": [
      "name:Lord2\n",
      "age:19\n",
      "Gen:Male\n"
     ]
    }
   ],
   "source": [
    "for key, value in student.items():\n",
    "    print(f\"{key}:{value}\")"
   ]
  },
  {
   "cell_type": "code",
   "execution_count": 84,
   "id": "06627e9f",
   "metadata": {},
   "outputs": [],
   "source": [
    "# Nested Dictionaries:\n",
    "students={\n",
    "    \"student1\":{\"name\":\"Krish\",\"age\":22},\n",
    "    \"student2\":{\"name\":\"Lord\",\"age\":23}\n",
    "}"
   ]
  },
  {
   "cell_type": "code",
   "execution_count": 85,
   "id": "19dcdab5",
   "metadata": {},
   "outputs": [
    {
     "data": {
      "text/plain": [
       "{'student1': {'name': 'Krish', 'age': 22},\n",
       " 'student2': {'name': 'Lord', 'age': 23}}"
      ]
     },
     "execution_count": 85,
     "metadata": {},
     "output_type": "execute_result"
    }
   ],
   "source": [
    "students"
   ]
  },
  {
   "cell_type": "code",
   "execution_count": 86,
   "id": "cc44cd21",
   "metadata": {},
   "outputs": [
    {
     "name": "stdout",
     "output_type": "stream",
     "text": [
      "student1:{'name': 'Krish', 'age': 22}\n",
      "name:Krish\n",
      "age:22\n",
      "student2:{'name': 'Lord', 'age': 23}\n",
      "name:Lord\n",
      "age:23\n"
     ]
    }
   ],
   "source": [
    "for st_id,st_info in students.items():\n",
    "    print(f\"{st_id}:{st_info}\")\n",
    "    for key,value in st_info.items():\n",
    "        print(f\"{key}:{value}\")"
   ]
  },
  {
   "cell_type": "code",
   "execution_count": 87,
   "id": "9e96b377",
   "metadata": {},
   "outputs": [],
   "source": [
    "# Dictionary Comprehension"
   ]
  },
  {
   "cell_type": "code",
   "execution_count": 88,
   "id": "dc8a3c07",
   "metadata": {},
   "outputs": [],
   "source": [
    "squares={x:x**2 for x in range(5)}"
   ]
  },
  {
   "cell_type": "code",
   "execution_count": 89,
   "id": "ccceffea",
   "metadata": {},
   "outputs": [
    {
     "data": {
      "text/plain": [
       "{0: 0, 1: 1, 2: 4, 3: 9, 4: 16}"
      ]
     },
     "execution_count": 89,
     "metadata": {},
     "output_type": "execute_result"
    }
   ],
   "source": [
    "squares"
   ]
  },
  {
   "cell_type": "code",
   "execution_count": 94,
   "id": "b775cf4a",
   "metadata": {},
   "outputs": [
    {
     "name": "stdout",
     "output_type": "stream",
     "text": [
      "{1: 3, 2: 2, 3: 8}\n"
     ]
    }
   ],
   "source": [
    "# Practical Examples\n",
    "# Use a dic to count the freq of nums in a list\n",
    "nums=[1,1,1,2,2,3,3,3,3,3,3,3,3]\n",
    "freq={}\n",
    "for i in nums:\n",
    "    if i in freq:\n",
    "        freq[i]+=1\n",
    "    else:\n",
    "        freq[i]=1\n",
    "        \n",
    "print(freq)"
   ]
  },
  {
   "cell_type": "code",
   "execution_count": 95,
   "id": "838b2d06",
   "metadata": {},
   "outputs": [],
   "source": [
    "## Merge two dics:\n",
    "dict1={\"a\":1,\"b\":2}\n",
    "dict2={\"b\":4,\"c\":5}\n",
    "\n",
    "mer={**dict1,**dict2}"
   ]
  },
  {
   "cell_type": "code",
   "execution_count": 96,
   "id": "44991bb4",
   "metadata": {},
   "outputs": [
    {
     "data": {
      "text/plain": [
       "{'a': 1, 'b': 4, 'c': 5}"
      ]
     },
     "execution_count": 96,
     "metadata": {},
     "output_type": "execute_result"
    }
   ],
   "source": [
    "mer"
   ]
  },
  {
   "cell_type": "code",
   "execution_count": 97,
   "id": "5a54ce2f",
   "metadata": {},
   "outputs": [],
   "source": [
    "# To do list:\n",
    "# Oragnising Student Greades\n",
    "# Managing an Inventory\n",
    "# Collect and Analyze feedback"
   ]
  },
  {
   "cell_type": "code",
   "execution_count": null,
   "id": "76cb9f10",
   "metadata": {},
   "outputs": [],
   "source": []
  },
  {
   "cell_type": "code",
   "execution_count": null,
   "id": "a0026f7f",
   "metadata": {},
   "outputs": [],
   "source": []
  }
 ],
 "metadata": {
  "kernelspec": {
   "display_name": "Python 3 (ipykernel)",
   "language": "python",
   "name": "python3"
  },
  "language_info": {
   "codemirror_mode": {
    "name": "ipython",
    "version": 3
   },
   "file_extension": ".py",
   "mimetype": "text/x-python",
   "name": "python",
   "nbconvert_exporter": "python",
   "pygments_lexer": "ipython3",
   "version": "3.11.5"
  }
 },
 "nbformat": 4,
 "nbformat_minor": 5
}
